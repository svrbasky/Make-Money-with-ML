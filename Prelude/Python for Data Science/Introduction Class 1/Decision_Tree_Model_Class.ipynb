{
 "cells": [
  {
   "cell_type": "markdown",
   "metadata": {},
   "source": [
    "# Siraj Raval's Python for Data Science Introduction\n",
    "\n",
    "Check out the video link: https://youtu.be/T5pRlIbr6gg\n",
    "\n",
    "This code is the rewritten from the .py code I have previously written.\n"
   ]
  },
  {
   "cell_type": "markdown",
   "metadata": {},
   "source": [
    "## Import Libraries "
   ]
  },
  {
   "cell_type": "code",
   "execution_count": 1,
   "metadata": {},
   "outputs": [],
   "source": [
    "from sklearn import tree"
   ]
  },
  {
   "cell_type": "markdown",
   "metadata": {},
   "source": [
    "## Dataset\n",
    "\n",
    "X - Inputs \n",
    "\n",
    "Y - Outputs"
   ]
  },
  {
   "cell_type": "code",
   "execution_count": 2,
   "metadata": {},
   "outputs": [],
   "source": [
    "# [height, weight, shoe size] \n",
    "X = [[181,80,44], [177, 70, 43], [160, 60, 38], [154, 54, 37],\n",
    "\t [166,65,40], [190,90,47], [175,64,39], [177,70,40], [159,55,37],\n",
    "\t [171,75,42], [181,85,43]]\n",
    "\n",
    "Y = ['male', 'female', 'female', 'female', 'male', 'male', \n",
    "\t'male', 'female', 'male', 'female', 'male']"
   ]
  },
  {
   "cell_type": "markdown",
   "metadata": {},
   "source": [
    "## Classifier Declaration\n",
    "\n",
    "Decision Tree is being used."
   ]
  },
  {
   "cell_type": "code",
   "execution_count": 3,
   "metadata": {},
   "outputs": [],
   "source": [
    "clf = tree.DecisionTreeClassifier()\n",
    "\n",
    "clf = clf.fit(X,Y)"
   ]
  },
  {
   "cell_type": "markdown",
   "metadata": {},
   "source": [
    "## Prediction"
   ]
  },
  {
   "cell_type": "code",
   "execution_count": 4,
   "metadata": {},
   "outputs": [
    {
     "name": "stdout",
     "output_type": "stream",
     "text": [
      "['female']\n"
     ]
    }
   ],
   "source": [
    "prediction = clf.predict([[190,70,43]])\n",
    "\n",
    "print(prediction)\n"
   ]
  },
  {
   "cell_type": "markdown",
   "metadata": {},
   "source": [
    "### End of code\n",
    "\n",
    "Written by Krishna Vijay Samayamantri on Oct/08/2019"
   ]
  }
 ],
 "metadata": {
  "kernelspec": {
   "display_name": "Python 3",
   "language": "python",
   "name": "python3"
  },
  "language_info": {
   "codemirror_mode": {
    "name": "ipython",
    "version": 3
   },
   "file_extension": ".py",
   "mimetype": "text/x-python",
   "name": "python",
   "nbconvert_exporter": "python",
   "pygments_lexer": "ipython3",
   "version": "3.7.3"
  }
 },
 "nbformat": 4,
 "nbformat_minor": 2
}
