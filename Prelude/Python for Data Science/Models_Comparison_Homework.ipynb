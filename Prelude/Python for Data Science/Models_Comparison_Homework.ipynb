{
 "cells": [
  {
   "cell_type": "markdown",
   "metadata": {},
   "source": [
    "# Siraj Raval's Python for Data Science Introduction (Homework)\n",
    "\n",
    "Check out the video link: https://youtu.be/T5pRlIbr6gg\n",
    "\n",
    "This code is the rewritten from the .py code I have previously written.\n"
   ]
  },
  {
   "cell_type": "markdown",
   "metadata": {},
   "source": [
    "## Import Libraries "
   ]
  },
  {
   "cell_type": "code",
   "execution_count": 1,
   "metadata": {},
   "outputs": [],
   "source": [
    "from sklearn import tree\n",
    "from sklearn import metrics\n",
    "from sklearn import svm\n",
    "from sklearn.neural_network import MLPClassifier"
   ]
  },
  {
   "cell_type": "markdown",
   "metadata": {},
   "source": [
    "## Dataset\n",
    "\n",
    "X - Inputs \n",
    "\n",
    "Y - Outputs"
   ]
  },
  {
   "cell_type": "code",
   "execution_count": 2,
   "metadata": {},
   "outputs": [],
   "source": [
    "# [height, weight, shoe size] \n",
    "X = [[181,80,44], [177,70,43], [160,60,38], [154,54,37], [180,85,44],\n",
    "\t [166,65,40], [190,90,47], [175,64,39], [177,70,40], [159,55,37],\n",
    "\t [171,75,42], [181,85,43], [155,55,36], [190,89,45], [177,67,43]]\n",
    "\n",
    "Y = ['male', 'female', 'female', 'female', 'male', 'male', 'male', \n",
    "\t'male', 'female', 'male', 'female', 'male', 'female', 'male', 'female']"
   ]
  },
  {
   "cell_type": "markdown",
   "metadata": {},
   "source": [
    "## Classifier Models\n",
    "\n",
    "3 Models are used:\n",
    "1. Decicion Trees\n",
    "2. Support Vector Machines (SVMs)\n",
    "3. Multi-Layer-Perceptron Classifier (MLPClassifier)"
   ]
  },
  {
   "cell_type": "code",
   "execution_count": 3,
   "metadata": {},
   "outputs": [
    {
     "name": "stdout",
     "output_type": "stream",
     "text": [
      "Models:\n",
      "DecisionTreeClassifier(class_weight=None, criterion='gini', max_depth=None,\n",
      "                       max_features=None, max_leaf_nodes=None,\n",
      "                       min_impurity_decrease=0.0, min_impurity_split=None,\n",
      "                       min_samples_leaf=1, min_samples_split=2,\n",
      "                       min_weight_fraction_leaf=0.0, presort=False,\n",
      "                       random_state=None, splitter='best')\n",
      "\n",
      "SVC(C=1.0, cache_size=200, class_weight=None, coef0=0.0,\n",
      "    decision_function_shape='ovr', degree=3, gamma='scale', kernel='rbf',\n",
      "    max_iter=-1, probability=False, random_state=None, shrinking=True,\n",
      "    tol=0.001, verbose=False)\n",
      "\n",
      "MLPClassifier(activation='relu', alpha=1e-05, batch_size='auto', beta_1=0.9,\n",
      "              beta_2=0.999, early_stopping=False, epsilon=1e-08,\n",
      "              hidden_layer_sizes=(5, 2), learning_rate='constant',\n",
      "              learning_rate_init=0.001, max_iter=200, momentum=0.9,\n",
      "              n_iter_no_change=10, nesterovs_momentum=True, power_t=0.5,\n",
      "              random_state=1, shuffle=True, solver='lbfgs', tol=0.0001,\n",
      "              validation_fraction=0.1, verbose=False, warm_start=False)\n",
      "\n"
     ]
    }
   ],
   "source": [
    "print('Models:')\n",
    "## Classifier Models\n",
    "# Decision Tree\n",
    "clfTree = tree.DecisionTreeClassifier()\n",
    "clfTree = clfTree.fit(X,Y)\n",
    "print(clfTree)\n",
    "print()\n",
    "\n",
    "# SVM\n",
    "clfSVM = svm.SVC(gamma = 'scale')\n",
    "clfSVM.fit(X,Y)\n",
    "print(clfSVM) \n",
    "print()\n",
    "\n",
    "# MLPClassifier\n",
    "clfMLPClassifier = MLPClassifier(solver='lbfgs', alpha=1e-5, hidden_layer_sizes=(5, 2), random_state=1)\n",
    "clfMLPClassifier.fit(X, Y)\n",
    "print(clfMLPClassifier)\n",
    "print()"
   ]
  },
  {
   "cell_type": "markdown",
   "metadata": {},
   "source": [
    "## Testing\n",
    "\n",
    "Create Datasets\n"
   ]
  },
  {
   "cell_type": "code",
   "execution_count": 6,
   "metadata": {},
   "outputs": [],
   "source": [
    "# print('\\n\\n Testing \\n\\n')\n",
    "\n",
    "## Testing\n",
    "# Datasets\n",
    "X_test = [[190,70,43], [180,65,40], [165,55,36]]\n",
    "Y_expected = ['male', 'female', 'female']\n"
   ]
  },
  {
   "cell_type": "markdown",
   "metadata": {},
   "source": [
    "### Prediction"
   ]
  },
  {
   "cell_type": "code",
   "execution_count": 7,
   "metadata": {},
   "outputs": [
    {
     "name": "stdout",
     "output_type": "stream",
     "text": [
      "['female' 'male' 'male']\n",
      "              precision    recall  f1-score   support\n",
      "\n",
      "      female       0.00      0.00      0.00       2.0\n",
      "        male       0.00      0.00      0.00       1.0\n",
      "\n",
      "    accuracy                           0.00       3.0\n",
      "   macro avg       0.00      0.00      0.00       3.0\n",
      "weighted avg       0.00      0.00      0.00       3.0\n",
      "\n",
      "[[0 2]\n",
      " [1 0]]\n",
      "['male' 'male' 'male']\n",
      "              precision    recall  f1-score   support\n",
      "\n",
      "      female       0.00      0.00      0.00         2\n",
      "        male       0.33      1.00      0.50         1\n",
      "\n",
      "    accuracy                           0.33         3\n",
      "   macro avg       0.17      0.50      0.25         3\n",
      "weighted avg       0.11      0.33      0.17         3\n",
      "\n",
      "[[0 2]\n",
      " [0 1]]\n",
      "['male' 'male' 'male']\n",
      "              precision    recall  f1-score   support\n",
      "\n",
      "      female       0.00      0.00      0.00         2\n",
      "        male       0.33      1.00      0.50         1\n",
      "\n",
      "    accuracy                           0.33         3\n",
      "   macro avg       0.17      0.50      0.25         3\n",
      "weighted avg       0.11      0.33      0.17         3\n",
      "\n",
      "[[0 2]\n",
      " [0 1]]\n"
     ]
    },
    {
     "name": "stderr",
     "output_type": "stream",
     "text": [
      "C:\\ProgramData\\Anaconda3\\lib\\site-packages\\sklearn\\metrics\\classification.py:1437: UndefinedMetricWarning: Precision and F-score are ill-defined and being set to 0.0 in labels with no predicted samples.\n",
      "  'precision', 'predicted', average, warn_for)\n",
      "C:\\ProgramData\\Anaconda3\\lib\\site-packages\\sklearn\\metrics\\classification.py:1437: UndefinedMetricWarning: Precision and F-score are ill-defined and being set to 0.0 in labels with no predicted samples.\n",
      "  'precision', 'predicted', average, warn_for)\n"
     ]
    }
   ],
   "source": [
    "## Prediction \n",
    "# Decision Tree\n",
    "Y_pred_Tree = clfTree.predict(X_test)\n",
    "\n",
    "print(Y_pred_Tree)\n",
    "print(metrics.classification_report(Y_expected,Y_pred_Tree))\n",
    "print(metrics.confusion_matrix(Y_expected,Y_pred_Tree))\n",
    "\n",
    "# SVM\n",
    "Y_pred_SVM = clfSVM.predict(X_test)\n",
    "\n",
    "print(Y_pred_SVM)\n",
    "print(metrics.classification_report(Y_expected,Y_pred_SVM))\n",
    "print(metrics.confusion_matrix(Y_expected,Y_pred_SVM))\n",
    "\n",
    "# MLPClassifier\n",
    "Y_pred_MLPClassifier = clfMLPClassifier.predict(X_test)\n",
    "\n",
    "print(Y_pred_MLPClassifier)\n",
    "print(metrics.classification_report(Y_expected,Y_pred_MLPClassifier))\n",
    "print(metrics.confusion_matrix(Y_expected,Y_pred_MLPClassifier))\n",
    "\n"
   ]
  },
  {
   "cell_type": "markdown",
   "metadata": {},
   "source": [
    "### End of code\n",
    "\n",
    "Written by Krishna Vijay Samayamantri on Oct/08/2019"
   ]
  }
 ],
 "metadata": {
  "kernelspec": {
   "display_name": "Python 3",
   "language": "python",
   "name": "python3"
  },
  "language_info": {
   "codemirror_mode": {
    "name": "ipython",
    "version": 3
   },
   "file_extension": ".py",
   "mimetype": "text/x-python",
   "name": "python",
   "nbconvert_exporter": "python",
   "pygments_lexer": "ipython3",
   "version": "3.7.3"
  }
 },
 "nbformat": 4,
 "nbformat_minor": 2
}
